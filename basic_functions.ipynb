{
 "cells": [
  {
   "cell_type": "code",
   "execution_count": 5,
   "metadata": {},
   "outputs": [],
   "source": [
    "import numpy as np\n",
    "\n",
    "class bmPoint:\n",
    "    def __init__(self, x, y, z=0.0):\n",
    "        self.x = x\n",
    "        self.y = y\n",
    "        self.z = z\n",
    "        \n",
    "def bmDist(p1,p2):\n",
    "    # Distance between two bmPoints\n",
    "    dx = p1.x-p2.x\n",
    "    dy = p1.y-p2.y\n",
    "    return(np.sqrt(dx**2+dy**2))"
   ]
  },
  {
   "cell_type": "code",
   "execution_count": 8,
   "metadata": {},
   "outputs": [
    {
     "name": "stdout",
     "output_type": "stream",
     "text": [
      "1.0 2 0.0\n",
      "2.2360679775\n"
     ]
    }
   ],
   "source": [
    "def main():\n",
    "    p = bmPoint(1.,2)\n",
    "\n",
    "    print(p.x,p.y,p.z)\n",
    "    \n",
    "    pa = p\n",
    "    pb = bmPoint(0.0,0.0)\n",
    "    \n",
    "    print(bmDist(pa,pb))\n",
    "    \n",
    "if __name__ == \"__main__\":\n",
    "    main()\n"
   ]
  },
  {
   "cell_type": "code",
   "execution_count": null,
   "metadata": {},
   "outputs": [],
   "source": []
  }
 ],
 "metadata": {
  "kernelspec": {
   "display_name": "Python 3",
   "language": "python",
   "name": "python3"
  },
  "language_info": {
   "codemirror_mode": {
    "name": "ipython",
    "version": 3
   },
   "file_extension": ".py",
   "mimetype": "text/x-python",
   "name": "python",
   "nbconvert_exporter": "python",
   "pygments_lexer": "ipython3",
   "version": "3.6.3"
  }
 },
 "nbformat": 4,
 "nbformat_minor": 2
}
