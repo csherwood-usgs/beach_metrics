{
 "cells": [
  {
   "cell_type": "markdown",
   "metadata": {},
   "source": [
    "### Basic functions\n",
    "\n",
    "Directions are in geographic notation: 0/360 = North, 90 = East, 180 = South, 270 = West.\n",
    "Slopes are expressed as tanB = dz/dist"
   ]
  },
  {
   "cell_type": "code",
   "execution_count": 13,
   "metadata": {},
   "outputs": [],
   "source": [
    "import numpy as np\n",
    "\n",
    "class bmPoint:\n",
    "    \"\"\"\n",
    "    Instantiate a three dimensional point object in regular coordinate space\n",
    "    \n",
    "    p = bmPoint(x, y, [z])\n",
    "    \n",
    "    Args:\n",
    "        x: x (Easting) coordinate [length]\n",
    "        y: y (Northing) coordinate [length]\n",
    "        z: z (Elevation) coordinate [length; optional: defaults to 0.0 if not specified]  \n",
    "    \n",
    "    Returns:\n",
    "        p: point of type bmPoint with x,y coordinates [length]\n",
    "        \n",
    "    Attributes:\n",
    "        p.x: x (Easting) coordinate [length]\n",
    "        p.y: y (Northing) coordinate [length]\n",
    "        p.z: z (Elevation) coordinate [length; optional: defaults to 0.0 if not specified] \n",
    "    \"\"\"\n",
    "    def __init__(self, x, y, z=0.0):\n",
    "        self.x = x\n",
    "        self.y = y\n",
    "        self.z = z\n",
    "        \n",
    "def bmDist2D(p1,p2):\n",
    "    \"\"\"\n",
    "    Calculate distance between two bmPoint objects in the x, y plane\n",
    "    \n",
    "    dist = bmDist2D(p1, p2)\n",
    "    \n",
    "    Args:\n",
    "        p1: point of type bmPoint with x,y coordinates [length]\n",
    "        p2: point of type bmPoint with x,y coordinates [length]\n",
    "    Returns:\n",
    "        dist: Euclian distance between the points [length]\n",
    "    \"\"\"\n",
    "    dx = p2.x-p1.x\n",
    "    dy = p2.y-p1.y\n",
    "    return(np.sqrt(dx**2+dy**2))\n",
    "\n",
    "def bmDist3D(p1, p2):\n",
    "    # Distance between two bmPoints in 3D space\n",
    "    dx = p2.x-p1.x\n",
    "    dy = p2.y-p1.y\n",
    "    dy = p2.z-p1.z\n",
    "    return(np.sqrt(dx**2+dy**2+dz**2))\n",
    "    \n",
    "\n",
    "def bmRAz(p1,p2):\n",
    "    # Range, bearing, and slope from bmPoint 1 to bmPoint 2\n",
    "    dx = p2.x-p1.x\n",
    "    dy = p2.y-p1.y\n",
    "    dz = p2.z-p1.z\n",
    "    az = np.nan\n",
    "    s = np.nan\n",
    "    r = np.sqrt(dx**2+dy**2)\n",
    "    if r >0.0:\n",
    "        az=np.degrees( np.arctan2(dx, dy) )\n",
    "        az = (az+360.)%360.\n",
    "        s = dz/r\n",
    "        \n",
    "    return(r,az,s)\n",
    "\n",
    "def bmPcoord(x, y):\n",
    "    \"\"\"\n",
    "    Convert x, y to polar coordinates r, az (geographic convention)\n",
    "    r,az = pcoord(x, y)\n",
    "    \"\"\"\n",
    "    r  = sqrt( x**2 + y**2 )\n",
    "    az=degrees( arctan2(x, y) )\n",
    "    # az[where(az<0.)[0]] += 360.\n",
    "    az = (az+360.)%360.\n",
    "    return r, az\n",
    "\n",
    "def bmXycoord(r, az):\n",
    "    \"\"\"\n",
    "    Convert r, az [degrees, geographic convention] to rectangular coordinates\n",
    "    x,y = xycoord(r, az)\n",
    "    \"\"\"\n",
    "    x = r * sin(radians(az))\n",
    "    y = r * cos(radians(az))\n",
    "    return x, y\n"
   ]
  },
  {
   "cell_type": "code",
   "execution_count": 12,
   "metadata": {},
   "outputs": [
    {
     "name": "stdout",
     "output_type": "stream",
     "text": [
      "1.0 2 0.0\n",
      "2.2360679775\n",
      "(2.2360679774997898, 26.565051177077976)\n"
     ]
    }
   ],
   "source": [
    "def main():\n",
    "    p = bmPoint(1.,2)\n",
    "\n",
    "    print(p.x,p.y,p.z)\n",
    "    \n",
    "    pa = p\n",
    "    pb = bmPoint(0.0,0.0)\n",
    "    \n",
    "    print(bmDist2D(pa,pb))\n",
    "    \n",
    "    print(bmDist2D(pa,pb))\n",
    "    print(bmDist2D(pa,pb))\n",
    "\n",
    "    \n",
    "if __name__ == \"__main__\":\n",
    "    main()\n"
   ]
  },
  {
   "cell_type": "code",
   "execution_count": null,
   "metadata": {},
   "outputs": [],
   "source": []
  }
 ],
 "metadata": {
  "kernelspec": {
   "display_name": "Python 3",
   "language": "python",
   "name": "python3"
  },
  "language_info": {
   "codemirror_mode": {
    "name": "ipython",
    "version": 3
   },
   "file_extension": ".py",
   "mimetype": "text/x-python",
   "name": "python",
   "nbconvert_exporter": "python",
   "pygments_lexer": "ipython3",
   "version": "3.6.3"
  }
 },
 "nbformat": 4,
 "nbformat_minor": 2
}
